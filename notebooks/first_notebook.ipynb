{
 "cells": [
  {
   "cell_type": "markdown",
   "id": "c38932b0",
   "metadata": {},
   "source": [
    "First Notebook"
   ]
  },
  {
   "cell_type": "code",
   "execution_count": 6,
   "id": "2490828e-4866-4938-8862-ea4fc412ab5f",
   "metadata": {},
   "outputs": [
    {
     "data": {
      "text/plain": [
       "2"
      ]
     },
     "execution_count": 6,
     "metadata": {},
     "output_type": "execute_result"
    }
   ],
   "source": [
    "1+1"
   ]
  },
  {
   "cell_type": "code",
   "execution_count": 7,
   "id": "00c2dfdf",
   "metadata": {},
   "outputs": [
    {
     "data": {
      "text/plain": [
       "'hello world'"
      ]
     },
     "execution_count": 7,
     "metadata": {},
     "output_type": "execute_result"
    }
   ],
   "source": [
    "\"hello world\""
   ]
  },
  {
   "cell_type": "code",
   "execution_count": 12,
   "id": "e8651760",
   "metadata": {},
   "outputs": [
    {
     "data": {
      "text/plain": [
       "3"
      ]
     },
     "execution_count": 12,
     "metadata": {},
     "output_type": "execute_result"
    }
   ],
   "source": [
    "a = 1\n",
    "b = 2\n",
    "a+b"
   ]
  },
  {
   "cell_type": "code",
   "execution_count": 14,
   "id": "977189ab",
   "metadata": {},
   "outputs": [
    {
     "data": {
      "text/plain": [
       "2"
      ]
     },
     "execution_count": 14,
     "metadata": {},
     "output_type": "execute_result"
    }
   ],
   "source": [
    "b"
   ]
  },
  {
   "cell_type": "code",
   "execution_count": 2,
   "id": "cf8f7474",
   "metadata": {},
   "outputs": [
    {
     "name": "stdout",
     "output_type": "stream",
     "text": [
      "<class 'pandas.core.frame.DataFrame'>\n",
      "RangeIndex: 667944 entries, 0 to 667943\n",
      "Data columns (total 16 columns):\n",
      " #   Column         Non-Null Count   Dtype  \n",
      "---  ------         --------------   -----  \n",
      " 0   OBJID          667944 non-null  int64  \n",
      " 1   RA             667944 non-null  object \n",
      " 2   DEC            667944 non-null  object \n",
      " 3   NVOTE          667944 non-null  int64  \n",
      " 4   P_EL           667944 non-null  float64\n",
      " 5   P_CW           667944 non-null  float64\n",
      " 6   P_ACW          667944 non-null  float64\n",
      " 7   P_EDGE         667944 non-null  float64\n",
      " 8   P_DK           667944 non-null  float64\n",
      " 9   P_MG           667944 non-null  float64\n",
      " 10  P_CS           667944 non-null  float64\n",
      " 11  P_EL_DEBIASED  667944 non-null  float64\n",
      " 12  P_CS_DEBIASED  667944 non-null  float64\n",
      " 13  SPIRAL         667944 non-null  int64  \n",
      " 14  ELLIPTICAL     667944 non-null  int64  \n",
      " 15  UNCERTAIN      667944 non-null  int64  \n",
      "dtypes: float64(9), int64(5), object(2)\n",
      "memory usage: 81.5+ MB\n"
     ]
    }
   ],
   "source": [
    "import pandas as pd\n",
    "\n",
    "df = pd.read_csv('../data/GalaxyZoo1_DR_table2.csv')\n",
    "\n",
    "df.info()"
   ]
  }
 ],
 "metadata": {
  "kernelspec": {
   "display_name": "venv",
   "language": "python",
   "name": "python3"
  },
  "language_info": {
   "codemirror_mode": {
    "name": "ipython",
    "version": 3
   },
   "file_extension": ".py",
   "mimetype": "text/x-python",
   "name": "python",
   "nbconvert_exporter": "python",
   "pygments_lexer": "ipython3",
   "version": "3.11.9"
  }
 },
 "nbformat": 4,
 "nbformat_minor": 5
}
